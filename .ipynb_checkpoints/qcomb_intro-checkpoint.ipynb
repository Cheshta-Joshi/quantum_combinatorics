{
 "cells": [
  {
   "cell_type": "markdown",
   "id": "78be6525",
   "metadata": {},
   "source": [
    "## Introduction  \n",
    "In this notebook we study quantum combinatorial algorithms. Mainly, we focus on problems related to permutations and combinations. This is inspired by the task of generating basis vectors for solving lattice models. For an N site lattice model, the number of basis states is equal to $^nC_r$ if r electrons are occupied. This number increases drastically as we increase the number of lattice sites and only the fastest classical computers can work with a model of as less sites as 20. For half-filled problem for 20lattice sites, there are 15504 possible basis states. Generating these many states could be a cumbersome task, let alone generating the hamiltonian and solving it.  \n",
    "\n",
    "In this notebook, we explore the sub-area of genrating basis states for lattice models. We try to find effective quantum combinatorial algorithms to generate these basis states. "
   ]
  },
  {
   "cell_type": "code",
   "execution_count": 3,
   "id": "0b0ee3eb",
   "metadata": {},
   "outputs": [
    {
     "data": {
      "text/plain": [
       "15504"
      ]
     },
     "execution_count": 3,
     "metadata": {},
     "output_type": "execute_result"
    }
   ],
   "source": [
    "import math \n",
    "math.comb(20,15)"
   ]
  },
  {
   "cell_type": "code",
   "execution_count": null,
   "id": "7e2a7bf0",
   "metadata": {},
   "outputs": [],
   "source": []
  }
 ],
 "metadata": {
  "kernelspec": {
   "display_name": "Python 3.8.3 64-bit ('qiskit': conda)",
   "language": "python",
   "name": "python38364bitqiskitconda85c61b2c9abf41d69916d1aec5f7d63b"
  },
  "language_info": {
   "codemirror_mode": {
    "name": "ipython",
    "version": 3
   },
   "file_extension": ".py",
   "mimetype": "text/x-python",
   "name": "python",
   "nbconvert_exporter": "python",
   "pygments_lexer": "ipython3",
   "version": "3.9.16"
  }
 },
 "nbformat": 4,
 "nbformat_minor": 5
}
